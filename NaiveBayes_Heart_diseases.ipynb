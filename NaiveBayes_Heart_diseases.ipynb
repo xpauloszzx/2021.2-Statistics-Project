{
  "cells": [
    {
      "cell_type": "markdown",
      "source": [
        "**Autores**: Paulo Sérgio Galdino de Souza e Rafael do Nascimento Moura\n",
        "\n",
        "\n",
        "**Estatística e probabilidade, 2021.2** "
      ],
      "metadata": {
        "id": "MBKEVAfjaO8F"
      }
    },
    {
      "cell_type": "markdown",
      "source": [
        "**Classificador Ingênuo de Bayes**\n",
        "\n"
      ],
      "metadata": {
        "id": "WJ5SGTxwY6kc"
      }
    },
    {
      "cell_type": "markdown",
      "source": [
        "O classificador multinomial Naïve Bayes é um dos modelos mais populares no aprendizado de máquina. Tomando como premissa a suposição de independência entre as variáveis do problema, o modelo de Naïve Bayes realiza uma classificação probabilística de observações, caracterizando-as em classes pré-definidas. A base dados utilizada no nosso classificador se trata de dados da pesquisa anual do Centers  for Disease Control and Prevention (Um sistema de saúde dos estados Unidos) de 2020 de  aproximadamente 400 mil adultos relacionados ao seu estado de saúde. As informações extraídas da base de dados foram retiradas da comunidade on-line de cientista de dados chamada Kaggle, e pode ser encontrada por: https://www.kaggle.com/datasets/kamilpytlak/personal-key-indicators-of-heart-disease. \n",
        "\n",
        "O principal objetivo ao aplicar a técnica  de aprendizagem de máquina (Naive Bayes), no nosso projeto, é tornar possível o mapeamento de um paciente aleatório dado uma série de parâmetros que irão prever se o indivíduo em questão é suscetível a ter uma enfermidade cardiovascular ou não. \n",
        "\n",
        "Serão utilizados 16 parâmetros para o mapeamento, sendo estes: \n",
        "\n",
        "\n",
        "1) **“Tabagismo”** : Você fumou pelo menos 100 cigarros em toda a sua vida?\n",
        "\n",
        "2) **“Beber álcool”**: Você é um homen adulto que bebe mais de 14 bebidas por semana ou uma mulher adulta que bebe mais de 7 bebidas por semana.\n",
        "\n",
        "3) **“Derrame”**:  Já teve um derrame?\n",
        "\n",
        "4) **“Saúde Física”** : Agora, pensando em sua saúde física, que inclui doenças e lesões físicas, por quantos dias nos últimos 30 dias sua saúde física não foi boa? (0-30 dias).\n",
        "\n",
        "5) **“Saúde Mental”** : Pensando em sua saúde mental, por quantos dias nos últimos 30 dias sua saúde mental não foi boa? (0-30 dias).\n",
        "\n",
        "6) **“Dificuldade de Locomoção”** : Você tem sérias dificuldades para caminhar ou subir escadas?\n",
        "\n",
        "7) **“Sexo”**: Você é homem ou mulher?\n",
        "\n",
        "8)**“Faixa-etária”**: Quatorze categorias de idade com intervalos de quatro anos.\n",
        "\n",
        "9) **“Raça”**: valor de raça/etnia\n",
        "\n",
        "10)**“Diabético”**: Você tem diabetes?\n",
        "\n",
        "11)**“Atividade Física”** : Adultos que relataram fazer atividade física ou exercício durante os últimos 30 dias além de seu trabalho regular.\n",
        "\n",
        "12) **GenHealth**: Você diria que, em geral, sua saúde é...\n",
        "\n",
        "13) **“Horas de sono”**: Em média, quantas horas de sono você dorme em um período de 24 horas?\n",
        "\n",
        "14) **“Asma”**: Você tem asma?\n",
        "\n",
        "15) **“Doença renal”**: Não incluindo cálculos renais, infecção da bexiga ou incontinência, você já foi informado de que tinha doença renal?\n",
        "\n",
        "16) **“SkinCancer”**: Você já teve ou tem câncer de pele?\n",
        "\n",
        "OBS: Antes de tudo, é necessário ter o arquivo .csv da base de dados e importa-lo, esá disponibilizado em: https://www.kaggle.com/datasets/kamilpytlak/personal-key-indicators-of-heart-disease. \n",
        "\n",
        "-\n",
        "-\n",
        "\n",
        "\n",
        "Dado o exposto, os trechos de códigos a seguir se tratam da implementação do nosso classificador.\n",
        "\n",
        "\n",
        "\n",
        "\n",
        "\n",
        "\n",
        "\n"
      ],
      "metadata": {
        "id": "L3tg9FZLatYy"
      }
    },
    {
      "cell_type": "markdown",
      "source": [
        "Bibliotecas a serem utilizadas:"
      ],
      "metadata": {
        "id": "wz1LBW9kjVgZ"
      }
    },
    {
      "cell_type": "code",
      "execution_count": null,
      "metadata": {
        "id": "34NlkA_QbL1I"
      },
      "outputs": [],
      "source": [
        "import random\n",
        "import pandas as pd\n",
        "import numpy as np\n",
        "import matplotlib.pyplot as plt\n",
        "import sys\n",
        "from sklearn.naive_bayes import GaussianNB\n"
      ]
    },
    {
      "cell_type": "markdown",
      "source": [
        "Acesso ao arquivo .csv que contém as informações  da base de dados:"
      ],
      "metadata": {
        "id": "HipF0vIkjbiC"
      }
    },
    {
      "cell_type": "code",
      "execution_count": null,
      "metadata": {
        "id": "ItDfY2p1bziK"
      },
      "outputs": [],
      "source": [
        "#np.set_printoptions(threshold=sys.maxsize)\n",
        "basedados=pd.read_csv('/content/heart_2020_cleaned.csv')"
      ]
    },
    {
      "cell_type": "markdown",
      "source": [
        "Base de dados a ser utilizada:"
      ],
      "metadata": {
        "id": "ULb8XNj3jrG4"
      }
    },
    {
      "cell_type": "code",
      "execution_count": null,
      "metadata": {
        "id": "lcmMk0ZAb_hP",
        "colab": {
          "base_uri": "https://localhost:8080/",
          "height": 488
        },
        "outputId": "0a90e610-f030-4fb9-f203-965cc4e97104"
      },
      "outputs": [
        {
          "output_type": "execute_result",
          "data": {
            "text/plain": [
              "       HeartDisease    BMI Smoking AlcoholDrinking Stroke  PhysicalHealth  \\\n",
              "0                No  16.60     Yes              No     No             3.0   \n",
              "1                No  20.34      No              No    Yes             0.0   \n",
              "2                No  26.58     Yes              No     No            20.0   \n",
              "3                No  24.21      No              No     No             0.0   \n",
              "4                No  23.71      No              No     No            28.0   \n",
              "...             ...    ...     ...             ...    ...             ...   \n",
              "186544           No  22.81      No              No     No             0.0   \n",
              "186545           No  20.53     Yes              No     No             1.0   \n",
              "186546           No  20.12      No              No     No             7.0   \n",
              "186547           No  24.41      No              No     No             1.0   \n",
              "186548           No  33.45      No              No     No             0.0   \n",
              "\n",
              "        MentalHealth DiffWalking     Sex  AgeCategory      Race Diabetic  \\\n",
              "0               30.0          No  Female        55-59     White      Yes   \n",
              "1                0.0          No  Female  80 or older     White       No   \n",
              "2               30.0          No    Male        65-69     White      Yes   \n",
              "3                0.0          No  Female        75-79     White       No   \n",
              "4                0.0         Yes  Female        40-44     White       No   \n",
              "...              ...         ...     ...          ...       ...      ...   \n",
              "186544           0.0          No  Female        65-69     White       No   \n",
              "186545           0.0          No  Female        55-59     White       No   \n",
              "186546          30.0          No  Female        30-34     White       No   \n",
              "186547           0.0          No    Male        55-59     White       No   \n",
              "186548           0.0          No    Male        45-49  Hispanic       No   \n",
              "\n",
              "       PhysicalActivity  GenHealth  SleepTime Asthma KidneyDisease SkinCancer  \n",
              "0                   Yes  Very good        5.0    Yes            No        Yes  \n",
              "1                   Yes  Very good        7.0     No            No         No  \n",
              "2                   Yes       Fair        8.0    Yes            No         No  \n",
              "3                    No       Good        6.0     No            No        Yes  \n",
              "4                   Yes  Very good        8.0     No            No         No  \n",
              "...                 ...        ...        ...    ...           ...        ...  \n",
              "186544              Yes  Excellent        6.0     No            No         No  \n",
              "186545              Yes  Excellent        7.0     No            No         No  \n",
              "186546               No  Excellent        7.0     No            No         No  \n",
              "186547              Yes  Very good        7.0     No            No         No  \n",
              "186548               No  Very good        7.0      Y           NaN        NaN  \n",
              "\n",
              "[186549 rows x 18 columns]"
            ],
            "text/html": [
              "\n",
              "  <div id=\"df-11ae1d0c-6166-4a73-b166-b8218c508327\">\n",
              "    <div class=\"colab-df-container\">\n",
              "      <div>\n",
              "<style scoped>\n",
              "    .dataframe tbody tr th:only-of-type {\n",
              "        vertical-align: middle;\n",
              "    }\n",
              "\n",
              "    .dataframe tbody tr th {\n",
              "        vertical-align: top;\n",
              "    }\n",
              "\n",
              "    .dataframe thead th {\n",
              "        text-align: right;\n",
              "    }\n",
              "</style>\n",
              "<table border=\"1\" class=\"dataframe\">\n",
              "  <thead>\n",
              "    <tr style=\"text-align: right;\">\n",
              "      <th></th>\n",
              "      <th>HeartDisease</th>\n",
              "      <th>BMI</th>\n",
              "      <th>Smoking</th>\n",
              "      <th>AlcoholDrinking</th>\n",
              "      <th>Stroke</th>\n",
              "      <th>PhysicalHealth</th>\n",
              "      <th>MentalHealth</th>\n",
              "      <th>DiffWalking</th>\n",
              "      <th>Sex</th>\n",
              "      <th>AgeCategory</th>\n",
              "      <th>Race</th>\n",
              "      <th>Diabetic</th>\n",
              "      <th>PhysicalActivity</th>\n",
              "      <th>GenHealth</th>\n",
              "      <th>SleepTime</th>\n",
              "      <th>Asthma</th>\n",
              "      <th>KidneyDisease</th>\n",
              "      <th>SkinCancer</th>\n",
              "    </tr>\n",
              "  </thead>\n",
              "  <tbody>\n",
              "    <tr>\n",
              "      <th>0</th>\n",
              "      <td>No</td>\n",
              "      <td>16.60</td>\n",
              "      <td>Yes</td>\n",
              "      <td>No</td>\n",
              "      <td>No</td>\n",
              "      <td>3.0</td>\n",
              "      <td>30.0</td>\n",
              "      <td>No</td>\n",
              "      <td>Female</td>\n",
              "      <td>55-59</td>\n",
              "      <td>White</td>\n",
              "      <td>Yes</td>\n",
              "      <td>Yes</td>\n",
              "      <td>Very good</td>\n",
              "      <td>5.0</td>\n",
              "      <td>Yes</td>\n",
              "      <td>No</td>\n",
              "      <td>Yes</td>\n",
              "    </tr>\n",
              "    <tr>\n",
              "      <th>1</th>\n",
              "      <td>No</td>\n",
              "      <td>20.34</td>\n",
              "      <td>No</td>\n",
              "      <td>No</td>\n",
              "      <td>Yes</td>\n",
              "      <td>0.0</td>\n",
              "      <td>0.0</td>\n",
              "      <td>No</td>\n",
              "      <td>Female</td>\n",
              "      <td>80 or older</td>\n",
              "      <td>White</td>\n",
              "      <td>No</td>\n",
              "      <td>Yes</td>\n",
              "      <td>Very good</td>\n",
              "      <td>7.0</td>\n",
              "      <td>No</td>\n",
              "      <td>No</td>\n",
              "      <td>No</td>\n",
              "    </tr>\n",
              "    <tr>\n",
              "      <th>2</th>\n",
              "      <td>No</td>\n",
              "      <td>26.58</td>\n",
              "      <td>Yes</td>\n",
              "      <td>No</td>\n",
              "      <td>No</td>\n",
              "      <td>20.0</td>\n",
              "      <td>30.0</td>\n",
              "      <td>No</td>\n",
              "      <td>Male</td>\n",
              "      <td>65-69</td>\n",
              "      <td>White</td>\n",
              "      <td>Yes</td>\n",
              "      <td>Yes</td>\n",
              "      <td>Fair</td>\n",
              "      <td>8.0</td>\n",
              "      <td>Yes</td>\n",
              "      <td>No</td>\n",
              "      <td>No</td>\n",
              "    </tr>\n",
              "    <tr>\n",
              "      <th>3</th>\n",
              "      <td>No</td>\n",
              "      <td>24.21</td>\n",
              "      <td>No</td>\n",
              "      <td>No</td>\n",
              "      <td>No</td>\n",
              "      <td>0.0</td>\n",
              "      <td>0.0</td>\n",
              "      <td>No</td>\n",
              "      <td>Female</td>\n",
              "      <td>75-79</td>\n",
              "      <td>White</td>\n",
              "      <td>No</td>\n",
              "      <td>No</td>\n",
              "      <td>Good</td>\n",
              "      <td>6.0</td>\n",
              "      <td>No</td>\n",
              "      <td>No</td>\n",
              "      <td>Yes</td>\n",
              "    </tr>\n",
              "    <tr>\n",
              "      <th>4</th>\n",
              "      <td>No</td>\n",
              "      <td>23.71</td>\n",
              "      <td>No</td>\n",
              "      <td>No</td>\n",
              "      <td>No</td>\n",
              "      <td>28.0</td>\n",
              "      <td>0.0</td>\n",
              "      <td>Yes</td>\n",
              "      <td>Female</td>\n",
              "      <td>40-44</td>\n",
              "      <td>White</td>\n",
              "      <td>No</td>\n",
              "      <td>Yes</td>\n",
              "      <td>Very good</td>\n",
              "      <td>8.0</td>\n",
              "      <td>No</td>\n",
              "      <td>No</td>\n",
              "      <td>No</td>\n",
              "    </tr>\n",
              "    <tr>\n",
              "      <th>...</th>\n",
              "      <td>...</td>\n",
              "      <td>...</td>\n",
              "      <td>...</td>\n",
              "      <td>...</td>\n",
              "      <td>...</td>\n",
              "      <td>...</td>\n",
              "      <td>...</td>\n",
              "      <td>...</td>\n",
              "      <td>...</td>\n",
              "      <td>...</td>\n",
              "      <td>...</td>\n",
              "      <td>...</td>\n",
              "      <td>...</td>\n",
              "      <td>...</td>\n",
              "      <td>...</td>\n",
              "      <td>...</td>\n",
              "      <td>...</td>\n",
              "      <td>...</td>\n",
              "    </tr>\n",
              "    <tr>\n",
              "      <th>186544</th>\n",
              "      <td>No</td>\n",
              "      <td>22.81</td>\n",
              "      <td>No</td>\n",
              "      <td>No</td>\n",
              "      <td>No</td>\n",
              "      <td>0.0</td>\n",
              "      <td>0.0</td>\n",
              "      <td>No</td>\n",
              "      <td>Female</td>\n",
              "      <td>65-69</td>\n",
              "      <td>White</td>\n",
              "      <td>No</td>\n",
              "      <td>Yes</td>\n",
              "      <td>Excellent</td>\n",
              "      <td>6.0</td>\n",
              "      <td>No</td>\n",
              "      <td>No</td>\n",
              "      <td>No</td>\n",
              "    </tr>\n",
              "    <tr>\n",
              "      <th>186545</th>\n",
              "      <td>No</td>\n",
              "      <td>20.53</td>\n",
              "      <td>Yes</td>\n",
              "      <td>No</td>\n",
              "      <td>No</td>\n",
              "      <td>1.0</td>\n",
              "      <td>0.0</td>\n",
              "      <td>No</td>\n",
              "      <td>Female</td>\n",
              "      <td>55-59</td>\n",
              "      <td>White</td>\n",
              "      <td>No</td>\n",
              "      <td>Yes</td>\n",
              "      <td>Excellent</td>\n",
              "      <td>7.0</td>\n",
              "      <td>No</td>\n",
              "      <td>No</td>\n",
              "      <td>No</td>\n",
              "    </tr>\n",
              "    <tr>\n",
              "      <th>186546</th>\n",
              "      <td>No</td>\n",
              "      <td>20.12</td>\n",
              "      <td>No</td>\n",
              "      <td>No</td>\n",
              "      <td>No</td>\n",
              "      <td>7.0</td>\n",
              "      <td>30.0</td>\n",
              "      <td>No</td>\n",
              "      <td>Female</td>\n",
              "      <td>30-34</td>\n",
              "      <td>White</td>\n",
              "      <td>No</td>\n",
              "      <td>No</td>\n",
              "      <td>Excellent</td>\n",
              "      <td>7.0</td>\n",
              "      <td>No</td>\n",
              "      <td>No</td>\n",
              "      <td>No</td>\n",
              "    </tr>\n",
              "    <tr>\n",
              "      <th>186547</th>\n",
              "      <td>No</td>\n",
              "      <td>24.41</td>\n",
              "      <td>No</td>\n",
              "      <td>No</td>\n",
              "      <td>No</td>\n",
              "      <td>1.0</td>\n",
              "      <td>0.0</td>\n",
              "      <td>No</td>\n",
              "      <td>Male</td>\n",
              "      <td>55-59</td>\n",
              "      <td>White</td>\n",
              "      <td>No</td>\n",
              "      <td>Yes</td>\n",
              "      <td>Very good</td>\n",
              "      <td>7.0</td>\n",
              "      <td>No</td>\n",
              "      <td>No</td>\n",
              "      <td>No</td>\n",
              "    </tr>\n",
              "    <tr>\n",
              "      <th>186548</th>\n",
              "      <td>No</td>\n",
              "      <td>33.45</td>\n",
              "      <td>No</td>\n",
              "      <td>No</td>\n",
              "      <td>No</td>\n",
              "      <td>0.0</td>\n",
              "      <td>0.0</td>\n",
              "      <td>No</td>\n",
              "      <td>Male</td>\n",
              "      <td>45-49</td>\n",
              "      <td>Hispanic</td>\n",
              "      <td>No</td>\n",
              "      <td>No</td>\n",
              "      <td>Very good</td>\n",
              "      <td>7.0</td>\n",
              "      <td>Y</td>\n",
              "      <td>NaN</td>\n",
              "      <td>NaN</td>\n",
              "    </tr>\n",
              "  </tbody>\n",
              "</table>\n",
              "<p>186549 rows × 18 columns</p>\n",
              "</div>\n",
              "      <button class=\"colab-df-convert\" onclick=\"convertToInteractive('df-11ae1d0c-6166-4a73-b166-b8218c508327')\"\n",
              "              title=\"Convert this dataframe to an interactive table.\"\n",
              "              style=\"display:none;\">\n",
              "        \n",
              "  <svg xmlns=\"http://www.w3.org/2000/svg\" height=\"24px\"viewBox=\"0 0 24 24\"\n",
              "       width=\"24px\">\n",
              "    <path d=\"M0 0h24v24H0V0z\" fill=\"none\"/>\n",
              "    <path d=\"M18.56 5.44l.94 2.06.94-2.06 2.06-.94-2.06-.94-.94-2.06-.94 2.06-2.06.94zm-11 1L8.5 8.5l.94-2.06 2.06-.94-2.06-.94L8.5 2.5l-.94 2.06-2.06.94zm10 10l.94 2.06.94-2.06 2.06-.94-2.06-.94-.94-2.06-.94 2.06-2.06.94z\"/><path d=\"M17.41 7.96l-1.37-1.37c-.4-.4-.92-.59-1.43-.59-.52 0-1.04.2-1.43.59L10.3 9.45l-7.72 7.72c-.78.78-.78 2.05 0 2.83L4 21.41c.39.39.9.59 1.41.59.51 0 1.02-.2 1.41-.59l7.78-7.78 2.81-2.81c.8-.78.8-2.07 0-2.86zM5.41 20L4 18.59l7.72-7.72 1.47 1.35L5.41 20z\"/>\n",
              "  </svg>\n",
              "      </button>\n",
              "      \n",
              "  <style>\n",
              "    .colab-df-container {\n",
              "      display:flex;\n",
              "      flex-wrap:wrap;\n",
              "      gap: 12px;\n",
              "    }\n",
              "\n",
              "    .colab-df-convert {\n",
              "      background-color: #E8F0FE;\n",
              "      border: none;\n",
              "      border-radius: 50%;\n",
              "      cursor: pointer;\n",
              "      display: none;\n",
              "      fill: #1967D2;\n",
              "      height: 32px;\n",
              "      padding: 0 0 0 0;\n",
              "      width: 32px;\n",
              "    }\n",
              "\n",
              "    .colab-df-convert:hover {\n",
              "      background-color: #E2EBFA;\n",
              "      box-shadow: 0px 1px 2px rgba(60, 64, 67, 0.3), 0px 1px 3px 1px rgba(60, 64, 67, 0.15);\n",
              "      fill: #174EA6;\n",
              "    }\n",
              "\n",
              "    [theme=dark] .colab-df-convert {\n",
              "      background-color: #3B4455;\n",
              "      fill: #D2E3FC;\n",
              "    }\n",
              "\n",
              "    [theme=dark] .colab-df-convert:hover {\n",
              "      background-color: #434B5C;\n",
              "      box-shadow: 0px 1px 3px 1px rgba(0, 0, 0, 0.15);\n",
              "      filter: drop-shadow(0px 1px 2px rgba(0, 0, 0, 0.3));\n",
              "      fill: #FFFFFF;\n",
              "    }\n",
              "  </style>\n",
              "\n",
              "      <script>\n",
              "        const buttonEl =\n",
              "          document.querySelector('#df-11ae1d0c-6166-4a73-b166-b8218c508327 button.colab-df-convert');\n",
              "        buttonEl.style.display =\n",
              "          google.colab.kernel.accessAllowed ? 'block' : 'none';\n",
              "\n",
              "        async function convertToInteractive(key) {\n",
              "          const element = document.querySelector('#df-11ae1d0c-6166-4a73-b166-b8218c508327');\n",
              "          const dataTable =\n",
              "            await google.colab.kernel.invokeFunction('convertToInteractive',\n",
              "                                                     [key], {});\n",
              "          if (!dataTable) return;\n",
              "\n",
              "          const docLinkHtml = 'Like what you see? Visit the ' +\n",
              "            '<a target=\"_blank\" href=https://colab.research.google.com/notebooks/data_table.ipynb>data table notebook</a>'\n",
              "            + ' to learn more about interactive tables.';\n",
              "          element.innerHTML = '';\n",
              "          dataTable['output_type'] = 'display_data';\n",
              "          await google.colab.output.renderOutput(dataTable, element);\n",
              "          const docLink = document.createElement('div');\n",
              "          docLink.innerHTML = docLinkHtml;\n",
              "          element.appendChild(docLink);\n",
              "        }\n",
              "      </script>\n",
              "    </div>\n",
              "  </div>\n",
              "  "
            ]
          },
          "metadata": {},
          "execution_count": 3
        }
      ],
      "source": [
        "basedados "
      ]
    },
    {
      "cell_type": "markdown",
      "source": [
        "O objetivo deste trecho é agrupar em um array os valores categóricos (informações contidas em cada coluna - apenas dos parâmetros) que serão utilizados para calcular as probabilidades para posteriormente facilitar o mapeamento. "
      ],
      "metadata": {
        "id": "2-ppxpr1jxAQ"
      }
    },
    {
      "cell_type": "code",
      "source": [
        "X_disease=basedados.iloc[:,2:18].values"
      ],
      "metadata": {
        "id": "5xnP5cs6Bctj"
      },
      "execution_count": null,
      "outputs": []
    },
    {
      "cell_type": "markdown",
      "source": [
        "Array agrupado com cada parâmetro que será utilizado:"
      ],
      "metadata": {
        "id": "2pI8B_FDkhQd"
      }
    },
    {
      "cell_type": "code",
      "source": [
        "X_disease #values "
      ],
      "metadata": {
        "id": "RKKBTSjwBNEv",
        "colab": {
          "base_uri": "https://localhost:8080/"
        },
        "outputId": "de11b850-ed88-4c87-e4c9-942a58154ead"
      },
      "execution_count": null,
      "outputs": [
        {
          "output_type": "execute_result",
          "data": {
            "text/plain": [
              "array([['Yes', 'No', 'No', ..., 'Yes', 'No', 'Yes'],\n",
              "       ['No', 'No', 'Yes', ..., 'No', 'No', 'No'],\n",
              "       ['Yes', 'No', 'No', ..., 'Yes', 'No', 'No'],\n",
              "       ...,\n",
              "       ['No', 'No', 'No', ..., 'No', 'No', 'No'],\n",
              "       ['No', 'No', 'No', ..., 'Yes', 'No', 'No'],\n",
              "       ['No', 'No', 'No', ..., 'Yes', 'No', 'No']], dtype=object)"
            ]
          },
          "metadata": {},
          "execution_count": 5
        }
      ]
    },
    {
      "cell_type": "markdown",
      "source": [
        "Neste trecho, será agrupado em um array todos os valores da coluna relativa a o resultado das predições realizadas na pesquisa posta na base de dados."
      ],
      "metadata": {
        "id": "fjoflHBpkw3f"
      }
    },
    {
      "cell_type": "code",
      "execution_count": null,
      "metadata": {
        "id": "b-HAZdvX5shb",
        "colab": {
          "base_uri": "https://localhost:8080/"
        },
        "outputId": "d3694854-eea7-426b-ff0f-8995b2435881"
      },
      "outputs": [
        {
          "output_type": "execute_result",
          "data": {
            "text/plain": [
              "array(['No', 'No', 'No', ..., 'No', 'No', 'No'], dtype=object)"
            ]
          },
          "metadata": {},
          "execution_count": 6
        }
      ],
      "source": [
        "Y_disease=basedados.iloc[:, 0].values\n",
        "Y_disease #target key values"
      ]
    },
    {
      "cell_type": "markdown",
      "source": [
        "Separação de 75% dos dados para treino e 25% dos dados para teste:"
      ],
      "metadata": {
        "id": "yPZytXP2PC8n"
      }
    },
    {
      "cell_type": "code",
      "source": [
        "from sklearn.model_selection import train_test_split  \n",
        "x_train, x_test, y_train, y_test = train_test_split(X_disease, Y_disease, test_size = 0.25, random_state = 5)"
      ],
      "metadata": {
        "id": "KsvwNWzDMNNm"
      },
      "execution_count": null,
      "outputs": []
    },
    {
      "cell_type": "markdown",
      "source": [
        "Como as informações da parte categórica contidas no banco de dados variam entre diversos tipos: strings,booleans,floats e inteiros, será necessário converter todos esses dados em um único tipo, no caso, inteiro. Caso não seja feita a conversão, é possível que erros sejam retornados."
      ],
      "metadata": {
        "id": "mpV3zCQcpcLT"
      }
    },
    {
      "cell_type": "code",
      "execution_count": null,
      "metadata": {
        "id": "MMqVbASI6qwk"
      },
      "outputs": [],
      "source": [
        "from sklearn.preprocessing import LabelEncoder #conversao de valores \n",
        "#label_encoder_BMI=LabelEncoder()\n",
        "label_encoder_Smoking=LabelEncoder()\n",
        "label_encoder_AlcoholDrinking=LabelEncoder()\n",
        "label_encoder_Stroke=LabelEncoder()\n",
        "label_encoder_PhysicalHealth=LabelEncoder()\n",
        "label_encoder_MentalHealth=LabelEncoder()\n",
        "label_encoder_DiffWalking\t=LabelEncoder()\n",
        "label_encoder_Sex=LabelEncoder()\n",
        "label_encoder_AgeCategory=LabelEncoder()\n",
        "label_encoder_Race=LabelEncoder()\n",
        "label_encoder_Diabetic=LabelEncoder()\n",
        "label_encoder_PhysicalActivity=LabelEncoder()\n",
        "label_encoder_GenHealth=LabelEncoder()\n",
        "label_encoder_SleepTime=LabelEncoder()\n",
        "label_encoder_Asthma=LabelEncoder()\n",
        "label_encoder_KidneyDisease=LabelEncoder()\n",
        "label_encoder_SkinCancer=LabelEncoder()"
      ]
    },
    {
      "cell_type": "markdown",
      "source": [
        "Neste passo, iremos associar a conversão feita de outros tipos de dados citados anteriormente para o tipo inteiro ao array que contém os atributos categóricos. Cada índice do array corresponde a seus respectivos parâmetros da base de dados."
      ],
      "metadata": {
        "id": "EpzudioH08Pq"
      }
    },
    {
      "cell_type": "code",
      "execution_count": null,
      "metadata": {
        "id": "46mm_xVu8ptc"
      },
      "outputs": [],
      "source": [
        "#X_disease[:,0]=label_encoder_BMI.fit_transform(X_disease[:,0])\n",
        "X_disease[:,0]=label_encoder_Smoking.fit_transform(X_disease[:,0])\n",
        "X_disease[:,1]=label_encoder_AlcoholDrinking.fit_transform(X_disease[:,1])\n",
        "X_disease[:,2]=label_encoder_Stroke.fit_transform(X_disease[:,2])\n",
        "X_disease[:,3]=label_encoder_PhysicalHealth.fit_transform(X_disease[:,3])\n",
        "X_disease[:,4]=label_encoder_MentalHealth.fit_transform(X_disease[:,4])\n",
        "X_disease[:,5]=label_encoder_DiffWalking.fit_transform(X_disease[:,5])\n",
        "X_disease[:,6]=label_encoder_Sex.fit_transform(X_disease[:,6])\n",
        "X_disease[:,7]=label_encoder_AgeCategory.fit_transform(X_disease[:,7])\n",
        "X_disease[:,8]=label_encoder_Race.fit_transform(X_disease[:,8])\n",
        "X_disease[:,9]=label_encoder_Diabetic.fit_transform(X_disease[:,9])\n",
        "X_disease[:,10]=label_encoder_PhysicalActivity.fit_transform(X_disease[:,10])\n",
        "X_disease[:,11]=label_encoder_GenHealth.fit_transform(X_disease[:,11])\n",
        "X_disease[:,12]=label_encoder_SleepTime.fit_transform(X_disease[:,12])\n",
        "X_disease[:,13]=label_encoder_Asthma.fit_transform(X_disease[:,13])\n",
        "X_disease[:,14]=label_encoder_KidneyDisease.fit_transform(X_disease[:,14])\n",
        "X_disease[:,15]=label_encoder_SkinCancer.fit_transform(X_disease[:,15])"
      ]
    },
    {
      "cell_type": "markdown",
      "source": [
        "Após isso, o array com os novos valores convertidos para inteiros dos atributos categóricos será dado por: "
      ],
      "metadata": {
        "id": "by_809WZ1omf"
      }
    },
    {
      "cell_type": "code",
      "execution_count": null,
      "metadata": {
        "id": "HUuaWkWtdeKr",
        "colab": {
          "base_uri": "https://localhost:8080/"
        },
        "outputId": "c76f1a18-6825-46d4-8caf-a99550e7d809"
      },
      "outputs": [
        {
          "output_type": "execute_result",
          "data": {
            "text/plain": [
              "array([[1, 0, 0, ..., 1, 0, 1],\n",
              "       [0, 0, 1, ..., 0, 0, 0],\n",
              "       [1, 0, 0, ..., 1, 0, 0],\n",
              "       ...,\n",
              "       [0, 0, 0, ..., 0, 0, 0],\n",
              "       [0, 0, 0, ..., 1, 0, 0],\n",
              "       [0, 0, 0, ..., 1, 0, 0]], dtype=object)"
            ]
          },
          "metadata": {},
          "execution_count": 10
        }
      ],
      "source": [
        "X_disease #Associacao dos valores apos conversao\n"
      ]
    },
    {
      "cell_type": "markdown",
      "source": [
        "É importante frisar, antes de tudo, que após a conversão do tipo de dado  as associações dos parâmetros foram feitas da seguinte maneira:\n",
        "\n",
        "1) **Smoking**: (Yes=1, No=0) \n",
        "\n",
        "2) **Alcohol drinking**: (Yes=1, No=0) \n",
        "\n",
        "3) **Stroke**: (Yes=1, No=0)\n",
        "\n",
        "4) **Physical Health**: (Foi associado para o prórpio valor original, mas em inteiro) \n",
        "\n",
        "5) **Mental Health**: (Foi associado para o prórpio valor original, mas em inteiro) \n",
        "\n",
        "6) **Diff Walking**: (Yes=1, No=O) \n",
        "\n",
        "7) **Sex**:  (Female=0, Male=1)\n",
        "\n",
        "8) **Age Category** (18-24 ; 25-29; 30-34, 35-39,40-44,45-49,50-54,55-59,60-64,65-69,70-74,75-79,80 or older) Os valores da faixa de idade são separados em 4 a 4 anos, de (18 anos até 80 or older). Sendo assim , cada valor foi associado como: (18-24 -> 0 , 25-29 -> 1,30-34 -> 2 ..., 80 or older ->12) \n",
        "\n",
        "9) **Race**: (White=5, Black=2, American/Indian/alaskan=0,Asian=1,Hispanic=3,Other=4) \n",
        "\n",
        "10) **Diabetic**:  (Yes=2,No=0,Boderline diabetes=1 , Diabetes during pregnancy=3)\n",
        "\n",
        "11) **PhysicalActivity**: (Yes=1, No = 0)\n",
        "\n",
        "12) **GenHealth**: (Fair=1, Good=2, Very good=4, Poor=3, Excellent=0)\n",
        "\n",
        "13) **Sleep Time**:  (Valor original +1)\n",
        "\n",
        "14) **Asthma**: (Yes=1,No=0)\n",
        "\n",
        "15) **Kidney Disease**: (No=0, Yes=1)\n",
        "\n",
        "16) **Skin Cancer**: (Yes=1, No=0)\n",
        "\n",
        "Ps: ***Lembrando que cada parâmetro corresponde a seus respectivos índices no vetor X_disease. Essas informações serão utilizadas posteriormente para realizar  a predição das classes.***\n"
      ],
      "metadata": {
        "id": "xyrJjxGc2jsc"
      }
    },
    {
      "cell_type": "markdown",
      "source": [
        "Nesse momento, iremos utilizar a base de dados, através dos dois arrays(target key e atributos categóricos) e aplicar o classificador ingênuo de Bayes. O tipo de implementação será a Gaussiana, da biblioteca sklearn, justamente porque no caso de uma grande base de dados (como a nossa) a implementação Gaussiana garante melhor acurária nas predições."
      ],
      "metadata": {
        "id": "Fd7sOj1IK4n2"
      }
    },
    {
      "cell_type": "code",
      "source": [
        "naive_heart_disease=GaussianNB()\n",
        "naive_heart_disease.fit(X_disease,Y_disease) #aplicando classificador na bd\n"
      ],
      "metadata": {
        "colab": {
          "base_uri": "https://localhost:8080/"
        },
        "id": "3d_We2Wx8KQb",
        "outputId": "b9e9d235-d9d9-4c9d-f992-89505024124b"
      },
      "execution_count": null,
      "outputs": [
        {
          "output_type": "execute_result",
          "data": {
            "text/plain": [
              "GaussianNB()"
            ]
          },
          "metadata": {},
          "execution_count": 11
        }
      ]
    },
    {
      "cell_type": "markdown",
      "source": [
        "Medição da acurácia do preditor:"
      ],
      "metadata": {
        "id": "X96-vs5jUuax"
      }
    },
    {
      "cell_type": "code",
      "source": [
        "y_pred = naive_heart_disease.predict(X_disease)  "
      ],
      "metadata": {
        "id": "FsJfMdwWOG6A"
      },
      "execution_count": null,
      "outputs": []
    },
    {
      "cell_type": "code",
      "source": [
        "from sklearn.metrics import accuracy_score\n",
        "\n",
        "accuracy_score(Y_disease, y_pred) "
      ],
      "metadata": {
        "colab": {
          "base_uri": "https://localhost:8080/"
        },
        "id": "GJ4FsbjaOjiL",
        "outputId": "4a3f544a-449e-419a-f7cf-fcc905823e79"
      },
      "execution_count": null,
      "outputs": [
        {
          "output_type": "execute_result",
          "data": {
            "text/plain": [
              "0.847396889790399"
            ]
          },
          "metadata": {},
          "execution_count": 13
        }
      ]
    },
    {
      "cell_type": "markdown",
      "source": [
        "Matriz de confusão: "
      ],
      "metadata": {
        "id": "OTXt6TZ8Umnv"
      }
    },
    {
      "cell_type": "code",
      "source": [
        "#Confusion Matrix  \n",
        "\n",
        "from sklearn.metrics import confusion_matrix  \n",
        "import seaborn as sns\n",
        "cm = confusion_matrix(Y_disease, y_pred)  \n",
        "\n",
        "print(cm)  \n",
        "\n",
        "cm_matrix = pd.DataFrame(data=cm, columns=['Actual Positive:1', 'Actual Negative:0'], \n",
        "   index=['Predict Positive:1', 'Predict Negative:0'])\n",
        "\n",
        "sns.heatmap(cm_matrix, annot=True, fmt='d', cmap='YlGnBu')"
      ],
      "metadata": {
        "colab": {
          "base_uri": "https://localhost:8080/",
          "height": 320
        },
        "id": "3k9mGriMPnfj",
        "outputId": "1aff394d-b75b-4c4b-f70c-74e7117c1cbc"
      },
      "execution_count": null,
      "outputs": [
        {
          "output_type": "stream",
          "name": "stdout",
          "text": [
            "[[107411  14197]\n",
            " [  6116   5386]]\n"
          ]
        },
        {
          "output_type": "execute_result",
          "data": {
            "text/plain": [
              "<matplotlib.axes._subplots.AxesSubplot at 0x7feb680f9310>"
            ]
          },
          "metadata": {},
          "execution_count": 14
        },
        {
          "output_type": "display_data",
          "data": {
            "text/plain": [
              "<Figure size 432x288 with 2 Axes>"
            ],
            "image/png": "[encoded data removed]"
          },
          "metadata": {
            "needs_background": "light"
          }
        }
      ]
    },
    {
      "cell_type": "markdown",
      "source": [
        "Geração da tabela de probabilidades:"
      ],
      "metadata": {
        "id": "Wna4Cxd8UiAi"
      }
    },
    {
      "cell_type": "code",
      "source": [
        "y_pred_prob = naive_heart_disease.predict_proba(X_disease)[0:15] #Probabilidade gerada para os 15 primeiros casos, obs a tabela é expansivel, basta alterar a size do array\n",
        "\n",
        "y_pred_prob"
      ],
      "metadata": {
        "colab": {
          "base_uri": "https://localhost:8080/"
        },
        "id": "flPnZZACStZq",
        "outputId": "6665d350-e1fd-4051-aa29-36c5d6e5ee5f"
      },
      "execution_count": null,
      "outputs": [
        {
          "output_type": "execute_result",
          "data": {
            "text/plain": [
              "array([[1.24366441e-01, 8.75633559e-01],\n",
              "       [1.17382395e-04, 9.99882618e-01],\n",
              "       [7.53048955e-02, 9.24695104e-01],\n",
              "       [8.61979167e-01, 1.38020833e-01],\n",
              "       [8.65399746e-01, 1.34600254e-01],\n",
              "       [3.48079065e-01, 6.51920935e-01],\n",
              "       [5.55060816e-01, 4.44939184e-01],\n",
              "       [3.94282206e-02, 9.60571779e-01],\n",
              "       [9.31914473e-05, 9.99906809e-01],\n",
              "       [8.72438535e-01, 1.27561465e-01],\n",
              "       [1.44194527e-06, 9.99998558e-01],\n",
              "       [9.98479168e-01, 1.52083247e-03],\n",
              "       [3.99493455e-01, 6.00506545e-01],\n",
              "       [8.09255093e-01, 1.90744907e-01],\n",
              "       [3.54395681e-01, 6.45604319e-01]])"
            ]
          },
          "metadata": {},
          "execution_count": 15
        }
      ]
    },
    {
      "cell_type": "markdown",
      "source": [
        "Listando classes possíveis para o mapeamento..."
      ],
      "metadata": {
        "id": "6QG_ov2zRhvS"
      }
    },
    {
      "cell_type": "code",
      "source": [
        "naive_heart_disease.classes_ #classes possíveis"
      ],
      "metadata": {
        "colab": {
          "base_uri": "https://localhost:8080/"
        },
        "id": "QOzpcd2a-I0z",
        "outputId": "a1d8b6cf-912d-4d32-ced2-7be7fc3010a6"
      },
      "execution_count": null,
      "outputs": [
        {
          "output_type": "execute_result",
          "data": {
            "text/plain": [
              "array(['No', 'Yes'], dtype='<U3')"
            ]
          },
          "metadata": {},
          "execution_count": 16
        }
      ]
    },
    {
      "cell_type": "markdown",
      "source": [
        "Quantidade de dados mapeados para cada classe..."
      ],
      "metadata": {
        "id": "TfXKOR1gRldg"
      }
    },
    {
      "cell_type": "code",
      "source": [
        "\n",
        "naive_heart_disease.class_count_   #qtd dados mapeados em cada classe"
      ],
      "metadata": {
        "colab": {
          "base_uri": "https://localhost:8080/"
        },
        "id": "xBUNs6cc8M52",
        "outputId": "dcd17e7a-2fca-44c0-c36e-4a67e2e7db70"
      },
      "execution_count": null,
      "outputs": [
        {
          "output_type": "execute_result",
          "data": {
            "text/plain": [
              "array([121608.,  11502.])"
            ]
          },
          "metadata": {},
          "execution_count": 17
        }
      ]
    },
    {
      "cell_type": "markdown",
      "source": [
        "Probabilidade intríseca a cada classe..."
      ],
      "metadata": {
        "id": "bBZE1ZcTRq1b"
      }
    },
    {
      "cell_type": "code",
      "source": [
        "naive_heart_disease.class_prior_ #prob nao e sim dado a bd"
      ],
      "metadata": {
        "colab": {
          "base_uri": "https://localhost:8080/"
        },
        "id": "_VXSrdPd-Umm",
        "outputId": "61581150-154c-4f6a-c1f9-9017e80e427a"
      },
      "execution_count": null,
      "outputs": [
        {
          "output_type": "execute_result",
          "data": {
            "text/plain": [
              "array([0.91359026, 0.08640974])"
            ]
          },
          "metadata": {},
          "execution_count": 18
        }
      ]
    },
    {
      "cell_type": "markdown",
      "source": [
        "Por fim, ao realizar a predição, é necessário compreender que, como dito anteriormente, cada parâmetro, como foi listado nas seções anteriores equivale à seus respectivos valores dado cada posição no array."
      ],
      "metadata": {
        "id": "H46V0kUCRuea"
      }
    },
    {
      "cell_type": "code",
      "source": [
        "from sklearn.metrics import accuracy_score\n",
        "atributes=[]\n",
        "smoking=int(input('Você fumou pelo menos 100 cigarros em toda a sua vida? (Y=1, N=0): '))\n",
        "atributes.append(smoking)\n",
        "alcohol=int(input('Você é um homem adulto que bebe mais de 14 bebidas por semana ou uma mulher adulta que bebe mais de 7 bebidas por semana? (Y=1, N=0): '))\n",
        "atributes.append(alcohol)\n",
        "stroke=int(input('Já teve um derrame? (Y=1,N=0): '))\n",
        "atributes.append(stroke)\n",
        "ph_health=int(input('Pensando em sua saúde física, que inclui doenças e lesões físicas, por quantos dias nos últimos 30 dias sua saúde física não foi boa? (0-30 dias): '))\n",
        "atributes.append(ph_health)\n",
        "mental_health=int(input('por quantos dias nos últimos 30 dias sua saúde mental não foi boa? (0-30 dias): '))\n",
        "atributes.append(mental_health)\n",
        "diff_walking=int(input('Já teve um derrame? (Y=1,N=0): '))\n",
        "atributes.append(diff_walking)\n",
        "sex=int(input('Você é homem ou mulher? (M=0,H=1): '))\n",
        "atributes.append(sex)\n",
        "age=int(input('Qual a sua faixa etária? (Considere que 18-24=0 , 25-29=1, 30-34 = 2,...,80+ = 12: '))\n",
        "atributes.append(age)\n",
        "race=int(input('Qual sua raça/etnia? (American/Indian/Alaskan=0, Asian=1,Black=2, Hispanic=3, Other=4, White=5): '))\n",
        "atributes.append(race)\n",
        "diabetes=int(input('Voce tem diabetes? (No=0,Pre-diabetes=1, Yes=2, Durante a gravidez=3): '))\n",
        "atributes.append(diabetes)\n",
        "physical_act=int(input('Nos seus últimos 30 dias, você andou fazendo exercícios? (Y=1,N=0): '))\n",
        "atributes.append(physical_act)\n",
        "gen_health=int(input('Você diria que, em geral, sua saúde é... (excelente=0, normal=1, boa=2,ruim=3, muito boa=4): '))\n",
        "atributes.append(gen_health)\n",
        "sleep_time=int(input('Em média, quantas horas de sono você dorme em um período de 24 horas?? (0-24h): '))\n",
        "atributes.append(sleep_time)\n",
        "asthma=int(input('Você possui asma? (Y=1, N=0): '))\n",
        "atributes.append(asthma)\n",
        "kidney_dis=int(input('Não incluindo cálculos renais, infecção da bexiga ou incontinência, você já foi informado de que tinha doença renal? (Y=1, N=0): '))\n",
        "atributes.append(kidney_dis)\n",
        "skin_cancer=int(input('Você possui ou já teve cancer de pele? (Y=1, N=0) : '))\n",
        "atributes.append(skin_cancer)\n",
        "\n",
        "\n",
        "\n",
        "prediction=naive_heart_disease.predict([atributes])\n",
        "\n",
        "prediction\n",
        "\n",
        "\n"
      ],
      "metadata": {
        "colab": {
          "base_uri": "https://localhost:8080/"
        },
        "id": "cjVVmSNu8TL4",
        "outputId": "9b1dee71-fd71-4341-c92c-cc71c8392acc"
      },
      "execution_count": null,
      "outputs": [
        {
          "output_type": "execute_result",
          "data": {
            "text/plain": [
              "array(['Yes', 'No', 'Yes', 'No', 'Yes', 'Yes', 'No', 'No', 'No', 'No',\n",
              "       'No', 'No', 'Yes', 'Yes', 'No', 'Yes', 'No', 'No', 'No', 'Yes'],\n",
              "      dtype='<U3')"
            ]
          },
          "metadata": {},
          "execution_count": 81
        }
      ]
    }
  ],
  "metadata": {
    "colab": {
      "name": "NaiveBayes_Heart_diseases.ipynb",
      "provenance": [],
      "collapsed_sections": []
    },
    "kernelspec": {
      "display_name": "Python 3",
      "name": "python3"
    },
    "language_info": {
      "name": "python"
    }
  },
  "nbformat": 4,
  "nbformat_minor": 0
}